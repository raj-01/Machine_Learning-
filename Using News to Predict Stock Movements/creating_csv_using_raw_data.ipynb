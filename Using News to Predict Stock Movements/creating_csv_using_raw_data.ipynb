{
 "cells": [
  {
   "cell_type": "code",
   "execution_count": 4,
   "metadata": {},
   "outputs": [],
   "source": [
    "import pandas as pd \n",
    "import sklearn as sk \n",
    "import numpy as np \n",
    "import matplotlib.pyplot as plt \n",
    "import os "
   ]
  },
  {
   "cell_type": "code",
   "execution_count": 105,
   "metadata": {},
   "outputs": [],
   "source": [
    "def sum_string( data ):\n",
    "    temp = '';\n",
    "    for itr in data:\n",
    "        temp = temp + itr\n",
    "    return temp "
   ]
  },
  {
   "cell_type": "code",
   "execution_count": 178,
   "metadata": {},
   "outputs": [],
   "source": [
    "#count_row = df.shape[0]  # gives number of row count\n",
    "#count_col = df.shape[1] \n",
    "catagories = ['politics', 'sport', 'entertainment', 'business', 'tech']\n",
    "df = pd.DataFrame();\n",
    "for cat_ in catagories:\n",
    "    file_list = os.listdir(\"./bbc/\" + cat_);\n",
    "    for file in file_list:\n",
    "        #reading data \n",
    "        fd = open(\"./bbc/\"+ cat_ +\"/\"+ file, errors='ignore') ;\n",
    "        fd.seek(0,0)\n",
    "        data = fd.readlines()\n",
    "        fd.close();\n",
    "        #cleaning data \n",
    "        i=0;\n",
    "        for itr in data:\n",
    "            if itr == '':\n",
    "                del data[i];\n",
    "            else :\n",
    "                data[i] = itr.replace('\\n','');\n",
    "                i=i+1;\n",
    "        #creating data frame \n",
    "        raw_data = {'catagory': [cat_], \n",
    "                'file_name': [file], \n",
    "                'title': [data[0]], \n",
    "                'content': sum_string(data[1:len(data)])}\n",
    "        df = df.append(pd.DataFrame(raw_data, columns = ['catagory', 'file_name', 'title', 'content']) , ignore_index = True)\n",
    "df.to_csv('./bbc/category.csv')"
   ]
  },
  {
   "cell_type": "code",
   "execution_count": 181,
   "metadata": {},
   "outputs": [
    {
     "data": {
      "text/html": [
       "<div>\n",
       "<style scoped>\n",
       "    .dataframe tbody tr th:only-of-type {\n",
       "        vertical-align: middle;\n",
       "    }\n",
       "\n",
       "    .dataframe tbody tr th {\n",
       "        vertical-align: top;\n",
       "    }\n",
       "\n",
       "    .dataframe thead th {\n",
       "        text-align: right;\n",
       "    }\n",
       "</style>\n",
       "<table border=\"1\" class=\"dataframe\">\n",
       "  <thead>\n",
       "    <tr style=\"text-align: right;\">\n",
       "      <th></th>\n",
       "      <th>catagory</th>\n",
       "      <th>file_name</th>\n",
       "      <th>title</th>\n",
       "      <th>content</th>\n",
       "    </tr>\n",
       "  </thead>\n",
       "  <tbody>\n",
       "    <tr>\n",
       "      <th>0</th>\n",
       "      <td>politics</td>\n",
       "      <td>406.txt</td>\n",
       "      <td>Profile: Gordon Brown</td>\n",
       "      <td>The ultimate prize of 10 Downing Street may co...</td>\n",
       "    </tr>\n",
       "    <tr>\n",
       "      <th>1</th>\n",
       "      <td>politics</td>\n",
       "      <td>218.txt</td>\n",
       "      <td>Blair dismisses quit claim report</td>\n",
       "      <td>Tony Blair has dismissed reports he told Gordo...</td>\n",
       "    </tr>\n",
       "    <tr>\n",
       "      <th>2</th>\n",
       "      <td>politics</td>\n",
       "      <td>250.txt</td>\n",
       "      <td>What the election should really be about?</td>\n",
       "      <td>A general election is the best chance most pre...</td>\n",
       "    </tr>\n",
       "    <tr>\n",
       "      <th>3</th>\n",
       "      <td>politics</td>\n",
       "      <td>254.txt</td>\n",
       "      <td>Could rivalry overshadow election?</td>\n",
       "      <td>Tony Blair and Gordon Brown are desperately tr...</td>\n",
       "    </tr>\n",
       "    <tr>\n",
       "      <th>4</th>\n",
       "      <td>politics</td>\n",
       "      <td>048.txt</td>\n",
       "      <td>Anglers 'could face prosecution'</td>\n",
       "      <td>Anglers and fishermen could find themselves pr...</td>\n",
       "    </tr>\n",
       "  </tbody>\n",
       "</table>\n",
       "</div>"
      ],
      "text/plain": [
       "   catagory file_name                                      title  \\\n",
       "0  politics   406.txt                      Profile: Gordon Brown   \n",
       "1  politics   218.txt          Blair dismisses quit claim report   \n",
       "2  politics   250.txt  What the election should really be about?   \n",
       "3  politics   254.txt         Could rivalry overshadow election?   \n",
       "4  politics   048.txt           Anglers 'could face prosecution'   \n",
       "\n",
       "                                             content  \n",
       "0  The ultimate prize of 10 Downing Street may co...  \n",
       "1  Tony Blair has dismissed reports he told Gordo...  \n",
       "2  A general election is the best chance most pre...  \n",
       "3  Tony Blair and Gordon Brown are desperately tr...  \n",
       "4  Anglers and fishermen could find themselves pr...  "
      ]
     },
     "execution_count": 181,
     "metadata": {},
     "output_type": "execute_result"
    }
   ],
   "source": [
    "df.head()"
   ]
  },
  {
   "cell_type": "code",
   "execution_count": 1,
   "metadata": {},
   "outputs": [
    {
     "ename": "NameError",
     "evalue": "name 'df' is not defined",
     "output_type": "error",
     "traceback": [
      "\u001b[0;31m---------------------------------------------------------------------------\u001b[0m",
      "\u001b[0;31mNameError\u001b[0m                                 Traceback (most recent call last)",
      "\u001b[0;32m<ipython-input-1-00cf07b74dcd>\u001b[0m in \u001b[0;36m<module>\u001b[0;34m\u001b[0m\n\u001b[0;32m----> 1\u001b[0;31m \u001b[0mdf\u001b[0m\u001b[0;34m\u001b[0m\u001b[0m\n\u001b[0m",
      "\u001b[0;31mNameError\u001b[0m: name 'df' is not defined"
     ]
    }
   ],
   "source": []
  },
  {
   "cell_type": "code",
   "execution_count": null,
   "metadata": {},
   "outputs": [],
   "source": []
  },
  {
   "cell_type": "code",
   "execution_count": null,
   "metadata": {},
   "outputs": [],
   "source": []
  },
  {
   "cell_type": "code",
   "execution_count": null,
   "metadata": {},
   "outputs": [],
   "source": []
  },
  {
   "cell_type": "code",
   "execution_count": null,
   "metadata": {},
   "outputs": [],
   "source": []
  }
 ],
 "metadata": {
  "kernelspec": {
   "display_name": "Python 3",
   "language": "python",
   "name": "python3"
  },
  "language_info": {
   "codemirror_mode": {
    "name": "ipython",
    "version": 3
   },
   "file_extension": ".py",
   "mimetype": "text/x-python",
   "name": "python",
   "nbconvert_exporter": "python",
   "pygments_lexer": "ipython3",
   "version": "3.5.2"
  }
 },
 "nbformat": 4,
 "nbformat_minor": 2
}
