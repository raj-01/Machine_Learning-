{
 "cells": [
  {
   "cell_type": "code",
   "execution_count": 94,
   "metadata": {},
   "outputs": [],
   "source": [
    "import os \n",
    "import numpy as np \n",
    "from sklearn.model_selection  import train_test_split"
   ]
  },
  {
   "cell_type": "code",
   "execution_count": 95,
   "metadata": {},
   "outputs": [],
   "source": [
    "datafile = open(os.getcwd() + '/spambase/spambase.data' , 'r')"
   ]
  },
  {
   "cell_type": "code",
   "execution_count": 96,
   "metadata": {},
   "outputs": [],
   "source": [
    "data = [] ;\n",
    "for line in datafile:\n",
    "    line = [float(element)for element in line.rstrip('\\n').split(',')]\n",
    "    data.append(np.asarray(line))"
   ]
  },
  {
   "cell_type": "code",
   "execution_count": 97,
   "metadata": {},
   "outputs": [],
   "source": [
    "num_features = 48 ;\n",
    "x = [ data[i][:num_features] for i in range(len(data))]\n",
    "y = [ int( data[i][-1]) for i in range(len(data))]\n"
   ]
  },
  {
   "cell_type": "code",
   "execution_count": 98,
   "metadata": {},
   "outputs": [],
   "source": [
    "x_train , x_test , y_train , y_test = train_test_split(x , y , test_size=0.25)"
   ]
  },
  {
   "cell_type": "code",
   "execution_count": 99,
   "metadata": {},
   "outputs": [],
   "source": [
    "# making likelihood estimation\n",
    "\n",
    "# find the two classes \n",
    "x_train_class_0 = [ x_train[i] for i in range( len(x_train)) if y_train[i]==0]\n",
    "x_train_class_1 = [ x_train[i] for i in range(len(x_train)) if y_train[i]==1]\n",
    "\n",
    "#find the class specific likelihood of each features\n",
    "likelihoods_class_0 = np.mean(x_train_class_0 , axis = 0)/100.0\n",
    "likelihoods_class_1 = np.mean( x_train_class_1, axis = 0)/100.0\n",
    "                            \n",
    "        "
   ]
  },
  {
   "cell_type": "code",
   "execution_count": 100,
   "metadata": {},
   "outputs": [],
   "source": [
    "def cal_log_likelihood_nave_bayes(feature_vector, class_):\n",
    "    assert len(feature_vector)== num_features\n",
    "    log_likelihood = 0.0\n",
    "    if class_ == 0:\n",
    "        for feature_index in range(len(feature_vector)):\n",
    "            if feature_vector[feature_index] == 1: \n",
    "                log_likelihood += np.log10(likelihoods_class_0[feature_index])\n",
    "            elif feature_vector[feature_index]== 0:\n",
    "                log_likelihood += np.log10(1.0 - likelihoods_class_0[feature_index])\n",
    "    elif class_ == 1:\n",
    "        for feature_index in range(len(feature_vector)):\n",
    "            if feature_vector[feature_index]== 1:\n",
    "                log_likelihood += np.log10(likelihoods_class_1[feature_index])\n",
    "            elif feature_vector[feature_index]==0:\n",
    "                log_likelihood += np.log10(1-likelihoods_class_1[feature_index])\n",
    "    else :\n",
    "        raise ValueError('class takes integer val 0 or 1')\n",
    "    return log_likelihood"
   ]
  },
  {
   "cell_type": "code",
   "execution_count": 101,
   "metadata": {},
   "outputs": [],
   "source": [
    "# calculating the class priors \n",
    "num_class_0 = float( len(x_train_class_0))\n",
    "num_class_1 = float(len(x_train_class_1))\n",
    "\n",
    "prior_probability_class_0 = num_class_0/(num_class_0 + num_class_1)\n",
    "prior_probability_class_1 = num_class_1/(num_class_0 + num_class_1)\n",
    "\n",
    "log_prior_class_0 = np.log10(prior_probability_class_0)\n",
    "log_prior_class_1= np.log10(prior_probability_class_1)"
   ]
  },
  {
   "cell_type": "code",
   "execution_count": 102,
   "metadata": {},
   "outputs": [],
   "source": [
    "def cal_class_posteriors(feature_vector):\n",
    "    log_likelihood_class_0 = cal_log_likelihood_nave_bayes( feature_vector,class_=0)\n",
    "    log_likelihood_class_1 = cal_log_likelihood_nave_bayes(feature_vector,class_=1)\n",
    "    \n",
    "    log_posterior_class_0 = log_likelihood_class_0 + log_prior_class_0\n",
    "    log_posterior_class_1= log_likelihood_class_1+ log_prior_class_1\n",
    "    return log_posterior_class_0 , log_posterior_class_1"
   ]
  },
  {
   "cell_type": "code",
   "execution_count": 103,
   "metadata": {},
   "outputs": [],
   "source": [
    "def classify_spam(document_vector):\n",
    "    feature_vector = [int(element>0) for element in document_vector]\n",
    "    log_posterior_class_0 , log_posterior_class_1 = cal_class_posteriors(feature_vector)\n",
    "    if log_posterior_class_0 > log_posterior_class_1:\n",
    "        return 0 \n",
    "    else:\n",
    "        return 1\n",
    "        "
   ]
  },
  {
   "cell_type": "code",
   "execution_count": 104,
   "metadata": {},
   "outputs": [],
   "source": [
    "# predction spam or not on the test data\n",
    "prediction = [];\n",
    "for email in x_test:\n",
    "    prediction.append(classify_spam(email))\n",
    "\n",
    "def evaluate_performance(prediction , ground_truth_labels):\n",
    "    correct_count = 0.0;\n",
    "    for item_idx in range(len(prediction)):\n",
    "        if prediction[item_idx] == ground_truth_labels[item_idx]:\n",
    "            correct_count += 1.0\n",
    "    accuracy = correct_count/len(prediction)\n",
    "    return accuracy "
   ]
  },
  {
   "cell_type": "code",
   "execution_count": 105,
   "metadata": {},
   "outputs": [
    {
     "name": "stdout",
     "output_type": "stream",
     "text": [
      "0.8601216333622936\n"
     ]
    }
   ],
   "source": [
    "acc_of_naive_bayes = evaluate_performance(prediction , y_test)\n",
    "print(acc_of_naive_bayes)"
   ]
  },
  {
   "cell_type": "code",
   "execution_count": null,
   "metadata": {},
   "outputs": [],
   "source": []
  },
  {
   "cell_type": "code",
   "execution_count": null,
   "metadata": {},
   "outputs": [],
   "source": []
  },
  {
   "cell_type": "code",
   "execution_count": null,
   "metadata": {},
   "outputs": [],
   "source": []
  },
  {
   "cell_type": "code",
   "execution_count": null,
   "metadata": {},
   "outputs": [],
   "source": []
  }
 ],
 "metadata": {
  "kernelspec": {
   "display_name": "Python 3",
   "language": "python",
   "name": "python3"
  },
  "language_info": {
   "codemirror_mode": {
    "name": "ipython",
    "version": 3
   },
   "file_extension": ".py",
   "mimetype": "text/x-python",
   "name": "python",
   "nbconvert_exporter": "python",
   "pygments_lexer": "ipython3",
   "version": "3.5.2"
  }
 },
 "nbformat": 4,
 "nbformat_minor": 2
}
